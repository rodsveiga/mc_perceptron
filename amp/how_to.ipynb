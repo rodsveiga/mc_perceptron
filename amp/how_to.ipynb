{
 "cells": [
  {
   "cell_type": "markdown",
   "id": "0160c260",
   "metadata": {},
   "source": [
    "# `amp` class: how to use it\n",
    "\n",
    "We provide in this notebook an example of a single run of the class `amp`."
   ]
  },
  {
   "cell_type": "markdown",
   "id": "bcfeeb67",
   "metadata": {},
   "source": [
    "## Example"
   ]
  },
  {
   "cell_type": "code",
   "execution_count": 1,
   "id": "2e693ffa",
   "metadata": {},
   "outputs": [],
   "source": [
    "from amp import AMP"
   ]
  },
  {
   "cell_type": "markdown",
   "id": "001da33e",
   "metadata": {},
   "source": [
    "### Class inputs"
   ]
  },
  {
   "cell_type": "code",
   "execution_count": 2,
   "id": "e27a03ae",
   "metadata": {},
   "outputs": [],
   "source": [
    "### Number of samples\n",
    "n_samples= 1000\n",
    "### Number of labels k\n",
    "n_labels= 3\n",
    "### Alpha = number of samples / input dim\n",
    "alpha= 1.5\n",
    "### Channel\n",
    "channel= 'argmax'\n",
    "### Teacher\n",
    "teacher= 'argmax'\n",
    "### Prior\n",
    "prior= 'gauss'\n",
    "#or\n",
    "#prior= 'rademacher'\n",
    "### Damping: f_new = (1-damping)*f_new + f_old\n",
    "damping= 0.5\n",
    "### Infinity: numerical computation \n",
    "infinity= 10\n",
    "### Maximum number of iterations\n",
    "max_iter= 1000\n",
    "### Convergence threshold: mean(abs(W-W_old)) \n",
    "conv= 1e-9"
   ]
  },
  {
   "cell_type": "markdown",
   "id": "5ed1fbfd",
   "metadata": {},
   "source": [
    "### Initialization: `amp=AMP()`"
   ]
  },
  {
   "cell_type": "code",
   "execution_count": 3,
   "id": "e1ff081b",
   "metadata": {},
   "outputs": [],
   "source": [
    "amp = AMP(n_samples= n_samples, n_labels= n_labels, alpha= alpha,\n",
    "          channel= channel, prior= prior, \n",
    "          damping= damping, infinity= infinity)"
   ]
  },
  {
   "cell_type": "markdown",
   "id": "7a512ff3",
   "metadata": {},
   "source": [
    "### Generate the teacher weights and the data: `amp.data()`"
   ]
  },
  {
   "cell_type": "code",
   "execution_count": 4,
   "id": "55871185",
   "metadata": {},
   "outputs": [
    {
     "name": "stdout",
     "output_type": "stream",
     "text": [
      "  \n",
      "| | | | | AMP | | | | |\n",
      " \n",
      "--- Teacher weights ---\n",
      "W_star=  [[-1.34447305 -0.14212705]\n",
      " [ 0.73216496  1.35210949]\n",
      " [-1.38324991 -0.14730495]\n",
      " ...\n",
      " [-0.62083503 -0.34800672]\n",
      " [-0.36070264  0.4628032 ]\n",
      " [-1.15983366  0.16166457]]\n",
      " \n"
     ]
    }
   ],
   "source": [
    "X, y, W_star = amp.data(teacher= teacher) "
   ]
  },
  {
   "cell_type": "markdown",
   "id": "2552295c",
   "metadata": {},
   "source": [
    "### Iterate `amp.fit()`"
   ]
  },
  {
   "cell_type": "code",
   "execution_count": 5,
   "id": "b6c2f53d",
   "metadata": {},
   "outputs": [
    {
     "name": "stdout",
     "output_type": "stream",
     "text": [
      "--- Initialization ---\n",
      "W_hat0 ~ gauss\n",
      "initial overlap =  [[-7.44075551e-05  2.21689346e-05]\n",
      " [ 6.11660704e-06  2.67868811e-05]]\n",
      "   \n",
      "--- Iterate AMP - alpha = 1.50000000 ---\n",
      "alpha= 1.50000000 | it= 0 | diff_W= 0.16280799 | mses = 1.54604751 | time: 0.531s \n",
      "overlap matrix =  [[0.20659624 0.09457087]\n",
      " [0.09264377 0.17324   ]]\n",
      "alpha= 1.50000000 | it= 1 | diff_W= 0.20981440 | mses = 1.21360719 | time: 0.442s \n",
      "alpha= 1.50000000 | it= 2 | diff_W= 0.19791563 | mses = 0.99924102 | time: 0.477s \n",
      "alpha= 1.50000000 | it= 3 | diff_W= 0.16673277 | mses = 0.89056781 | time: 0.459s \n",
      "alpha= 1.50000000 | it= 4 | diff_W= 0.12834615 | mses = 0.84959055 | time: 0.485s \n",
      "alpha= 1.50000000 | it= 5 | diff_W= 0.09015214 | mses = 0.83910415 | time: 0.442s \n",
      "alpha= 1.50000000 | it= 6 | diff_W= 0.06058756 | mses = 0.83531406 | time: 0.448s \n",
      "alpha= 1.50000000 | it= 7 | diff_W= 0.04576554 | mses = 0.83075506 | time: 0.471s \n",
      "alpha= 1.50000000 | it= 8 | diff_W= 0.03851530 | mses = 0.82599152 | time: 0.430s \n",
      "alpha= 1.50000000 | it= 9 | diff_W= 0.03197795 | mses = 0.82209733 | time: 0.440s \n",
      "alpha= 1.50000000 | it= 10 | diff_W= 0.02605226 | mses = 0.81916419 | time: 0.429s \n",
      "overlap matrix =  [[1.17220789 0.62171941]\n",
      " [0.5921792  1.09379419]]\n",
      "alpha= 1.50000000 | it= 11 | diff_W= 0.02090484 | mses = 0.81706027 | time: 0.443s \n",
      "alpha= 1.50000000 | it= 12 | diff_W= 0.01676971 | mses = 0.81565701 | time: 0.440s \n",
      "alpha= 1.50000000 | it= 13 | diff_W= 0.01290305 | mses = 0.81475100 | time: 0.429s \n",
      "alpha= 1.50000000 | it= 14 | diff_W= 0.00972690 | mses = 0.81412952 | time: 0.437s \n",
      "alpha= 1.50000000 | it= 15 | diff_W= 0.00730000 | mses = 0.81365574 | time: 0.439s \n",
      "alpha= 1.50000000 | it= 16 | diff_W= 0.00554545 | mses = 0.81326773 | time: 0.434s \n",
      "alpha= 1.50000000 | it= 17 | diff_W= 0.00428089 | mses = 0.81294566 | time: 0.453s \n",
      "alpha= 1.50000000 | it= 18 | diff_W= 0.00332649 | mses = 0.81268922 | time: 0.456s \n",
      "alpha= 1.50000000 | it= 19 | diff_W= 0.00261089 | mses = 0.81250179 | time: 0.439s \n",
      "alpha= 1.50000000 | it= 20 | diff_W= 0.00201623 | mses = 0.81237998 | time: 0.446s \n",
      "overlap matrix =  [[1.13538809 0.59599717]\n",
      " [0.57241813 1.05803425]]\n",
      "alpha= 1.50000000 | it= 21 | diff_W= 0.00153567 | mses = 0.81231186 | time: 0.457s \n",
      "alpha= 1.50000000 | it= 22 | diff_W= 0.00117646 | mses = 0.81228154 | time: 0.452s \n",
      "alpha= 1.50000000 | it= 23 | diff_W= 0.00089841 | mses = 0.81227441 | time: 0.448s \n",
      "alpha= 1.50000000 | it= 24 | diff_W= 0.00069154 | mses = 0.81228003 | time: 0.442s \n",
      "alpha= 1.50000000 | it= 25 | diff_W= 0.00053188 | mses = 0.81229235 | time: 0.441s \n",
      "alpha= 1.50000000 | it= 26 | diff_W= 0.00041591 | mses = 0.81230822 | time: 0.445s \n",
      "alpha= 1.50000000 | it= 27 | diff_W= 0.00032917 | mses = 0.81232550 | time: 0.544s \n",
      "alpha= 1.50000000 | it= 28 | diff_W= 0.00025620 | mses = 0.81234205 | time: 0.574s \n",
      "alpha= 1.50000000 | it= 29 | diff_W= 0.00019510 | mses = 0.81235581 | time: 0.475s \n",
      "alpha= 1.50000000 | it= 30 | diff_W= 0.00014692 | mses = 0.81236533 | time: 0.454s \n",
      "overlap matrix =  [[1.13599902 0.59628138]\n",
      " [0.5729451  1.05868738]]\n",
      "alpha= 1.50000000 | it= 31 | diff_W= 0.00011172 | mses = 0.81237031 | time: 0.438s \n",
      "alpha= 1.50000000 | it= 32 | diff_W= 0.00008650 | mses = 0.81237152 | time: 0.442s \n",
      "alpha= 1.50000000 | it= 33 | diff_W= 0.00006778 | mses = 0.81237040 | time: 0.448s \n",
      "alpha= 1.50000000 | it= 34 | diff_W= 0.00005335 | mses = 0.81236837 | time: 0.446s \n",
      "alpha= 1.50000000 | it= 35 | diff_W= 0.00004121 | mses = 0.81236647 | time: 0.448s \n",
      "alpha= 1.50000000 | it= 36 | diff_W= 0.00003155 | mses = 0.81236517 | time: 0.440s \n",
      "alpha= 1.50000000 | it= 37 | diff_W= 0.00002439 | mses = 0.81236450 | time: 0.452s \n",
      "alpha= 1.50000000 | it= 38 | diff_W= 0.00001898 | mses = 0.81236425 | time: 0.458s \n",
      "alpha= 1.50000000 | it= 39 | diff_W= 0.00001465 | mses = 0.81236418 | time: 0.454s \n",
      "alpha= 1.50000000 | it= 40 | diff_W= 0.00001140 | mses = 0.81236415 | time: 0.452s \n",
      "overlap matrix =  [[1.1360088  0.5962828 ]\n",
      " [0.5729357  1.05868053]]\n",
      "alpha= 1.50000000 | it= 41 | diff_W= 0.00000901 | mses = 0.81236408 | time: 0.437s \n",
      "alpha= 1.50000000 | it= 42 | diff_W= 0.00000701 | mses = 0.81236397 | time: 0.442s \n",
      "alpha= 1.50000000 | it= 43 | diff_W= 0.00000535 | mses = 0.81236382 | time: 0.441s \n",
      "alpha= 1.50000000 | it= 44 | diff_W= 0.00000411 | mses = 0.81236367 | time: 0.482s \n",
      "alpha= 1.50000000 | it= 45 | diff_W= 0.00000321 | mses = 0.81236352 | time: 0.467s \n",
      "alpha= 1.50000000 | it= 46 | diff_W= 0.00000250 | mses = 0.81236339 | time: 0.509s \n",
      "alpha= 1.50000000 | it= 47 | diff_W= 0.00000193 | mses = 0.81236329 | time: 0.472s \n",
      "alpha= 1.50000000 | it= 48 | diff_W= 0.00000147 | mses = 0.81236322 | time: 0.467s \n",
      "alpha= 1.50000000 | it= 49 | diff_W= 0.00000116 | mses = 0.81236319 | time: 0.502s \n",
      "alpha= 1.50000000 | it= 50 | diff_W= 0.00000092 | mses = 0.81236318 | time: 0.464s \n",
      "overlap matrix =  [[1.13600766 0.59628204]\n",
      " [0.5729347  1.05867912]]\n",
      "alpha= 1.50000000 | it= 51 | diff_W= 0.00000070 | mses = 0.81236319 | time: 0.445s \n",
      "alpha= 1.50000000 | it= 52 | diff_W= 0.00000053 | mses = 0.81236321 | time: 0.429s \n",
      "alpha= 1.50000000 | it= 53 | diff_W= 0.00000042 | mses = 0.81236321 | time: 0.529s \n",
      "alpha= 1.50000000 | it= 54 | diff_W= 0.00000034 | mses = 0.81236321 | time: 0.555s \n",
      "alpha= 1.50000000 | it= 55 | diff_W= 0.00000025 | mses = 0.81236321 | time: 0.559s \n",
      "alpha= 1.50000000 | it= 56 | diff_W= 0.00000019 | mses = 0.81236320 | time: 0.569s \n",
      "alpha= 1.50000000 | it= 57 | diff_W= 0.00000015 | mses = 0.81236320 | time: 0.525s \n",
      "alpha= 1.50000000 | it= 58 | diff_W= 0.00000012 | mses = 0.81236320 | time: 0.569s \n",
      "alpha= 1.50000000 | it= 59 | diff_W= 0.00000009 | mses = 0.81236320 | time: 0.580s \n",
      "alpha= 1.50000000 | it= 60 | diff_W= 0.00000007 | mses = 0.81236320 | time: 0.489s \n",
      "overlap matrix =  [[1.13600786 0.59628222]\n",
      " [0.57293475 1.05867925]]\n",
      "alpha= 1.50000000 | it= 61 | diff_W= 0.00000005 | mses = 0.81236320 | time: 0.523s \n",
      "alpha= 1.50000000 | it= 62 | diff_W= 0.00000004 | mses = 0.81236320 | time: 0.471s \n",
      "alpha= 1.50000000 | it= 63 | diff_W= 0.00000003 | mses = 0.81236321 | time: 0.473s \n",
      "alpha= 1.50000000 | it= 64 | diff_W= 0.00000002 | mses = 0.81236321 | time: 0.436s \n",
      "alpha= 1.50000000 | it= 65 | diff_W= 0.00000002 | mses = 0.81236321 | time: 0.458s \n",
      "alpha= 1.50000000 | it= 66 | diff_W= 0.00000002 | mses = 0.81236321 | time: 0.513s \n",
      "alpha= 1.50000000 | it= 67 | diff_W= 0.00000001 | mses = 0.81236321 | time: 0.492s \n",
      "alpha= 1.50000000 | it= 68 | diff_W= 0.00000001 | mses = 0.81236321 | time: 0.486s \n",
      "alpha= 1.50000000 | it= 69 | diff_W= 0.00000001 | mses = 0.81236321 | time: 0.451s \n",
      "alpha= 1.50000000 | it= 70 | diff_W= 0.00000001 | mses = 0.81236321 | time: 0.491s \n",
      "overlap matrix =  [[1.13600785 0.59628221]\n",
      " [0.57293475 1.05867923]]\n",
      "alpha= 1.50000000 | it= 71 | diff_W= 0.00000000 | mses = 0.81236321 | time: 0.516s \n",
      "alpha= 1.50000000 | it= 72 | diff_W= 0.00000000 | mses = 0.81236321 | time: 0.452s \n",
      "alpha= 1.50000000 | it= 73 | diff_W= 0.00000000 | mses = 0.81236321 | time: 0.447s \n",
      "alpha= 1.50000000 | it= 74 | diff_W= 0.00000000 | mses = 0.81236321 | time: 0.537s \n",
      "alpha= 1.50000000 | it= 75 | diff_W= 0.00000000 | mses = 0.81236321 | time: 0.686s \n",
      "alpha= 1.50000000 | it= 76 | diff_W= 0.00000000 | mses = 0.81236321 | time: 0.577s \n",
      "alpha= 1.50000000 | it= 77 | diff_W= 0.00000000 | mses = 0.81236321 | time: 0.461s \n",
      "alpha= 1.50000000 | it= 78 | diff_W= 0.00000000 | mses = 0.81236321 | time: 0.450s \n",
      "Terminating AMP alpha= 1.50000000\n",
      "mean(abs(W-W_old)) < 0.00000\n",
      "it= 78 | mseW= 0.81236321 | diffW= 0.00000000 | total time: 37.546s \n",
      "final overlap matrix =  [[1.13600785 0.59628221]\n",
      " [0.57293475 1.05867923]]\n",
      "    \n"
     ]
    }
   ],
   "source": [
    "amp.fit(max_iter= max_iter, conv=conv)"
   ]
  },
  {
   "cell_type": "markdown",
   "id": "b1fa9872",
   "metadata": {},
   "source": [
    "### After `amp.fit()`"
   ]
  },
  {
   "cell_type": "code",
   "execution_count": 6,
   "id": "951e2d53",
   "metadata": {},
   "outputs": [],
   "source": [
    "# Returns estimator and variance\n",
    "W_hat, C_hat = amp.parameters()\n",
    "# Returns list of overlap matrices after fit\n",
    "ov_matrices = amp.overlap_matrix()\n",
    "# Returns list of MSES after fit\n",
    "mses_ = amp.get_mses()\n",
    "# Returns list of  mean(abs(W-W_old))  after fit\n",
    "W_diff_ = amp.get_diff_W()\n",
    "# Compute the generalization error\n",
    "er_gen = amp.eg(new_samples=1e5)"
   ]
  },
  {
   "cell_type": "code",
   "execution_count": 7,
   "id": "fd36b2d6",
   "metadata": {},
   "outputs": [
    {
     "name": "stdout",
     "output_type": "stream",
     "text": [
      "[[1.13600785 0.59628221]\n",
      " [0.57293475 1.05867923]]\n"
     ]
    }
   ],
   "source": [
    "# Final overlap\n",
    "print(ov_matrices[-1])"
   ]
  },
  {
   "cell_type": "code",
   "execution_count": 8,
   "id": "392288a1",
   "metadata": {},
   "outputs": [
    {
     "name": "stdout",
     "output_type": "stream",
     "text": [
      "0.33029\n"
     ]
    }
   ],
   "source": [
    "# Generalization error\n",
    "print(er_gen)"
   ]
  }
 ],
 "metadata": {
  "kernelspec": {
   "display_name": "Python 3.8.5 64-bit ('anaconda3': virtualenv)",
   "language": "python",
   "name": "python385jvsc74a57bd055f1c31c9ec88ecd0138ba008a06445b3495182e663e08d0be129519e756f673"
  },
  "language_info": {
   "codemirror_mode": {
    "name": "ipython",
    "version": 3
   },
   "file_extension": ".py",
   "mimetype": "text/x-python",
   "name": "python",
   "nbconvert_exporter": "python",
   "pygments_lexer": "ipython3",
   "version": "3.8.5"
  }
 },
 "nbformat": 4,
 "nbformat_minor": 5
}
